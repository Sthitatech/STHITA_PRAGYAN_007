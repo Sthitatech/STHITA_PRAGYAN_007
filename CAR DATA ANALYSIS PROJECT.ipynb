{
 "cells": [
  {
   "cell_type": "code",
   "execution_count": 1,
   "id": "0c611995",
   "metadata": {},
   "outputs": [],
   "source": [
    "import numpy as np\n",
    "import pandas as pd\n",
    "import matplotlib.pyplot as plt\n",
    "import seaborn as sb"
   ]
  },
  {
   "cell_type": "markdown",
   "id": "7285f9cb",
   "metadata": {},
   "source": [
    "# READING THE DATASET"
   ]
  },
  {
   "cell_type": "code",
   "execution_count": 2,
   "id": "be2eba9c",
   "metadata": {
    "scrolled": false
   },
   "outputs": [
    {
     "data": {
      "text/html": [
       "<div>\n",
       "<style scoped>\n",
       "    .dataframe tbody tr th:only-of-type {\n",
       "        vertical-align: middle;\n",
       "    }\n",
       "\n",
       "    .dataframe tbody tr th {\n",
       "        vertical-align: top;\n",
       "    }\n",
       "\n",
       "    .dataframe thead th {\n",
       "        text-align: right;\n",
       "    }\n",
       "</style>\n",
       "<table border=\"1\" class=\"dataframe\">\n",
       "  <thead>\n",
       "    <tr style=\"text-align: right;\">\n",
       "      <th></th>\n",
       "      <th>Car ID</th>\n",
       "      <th>Brand</th>\n",
       "      <th>Model</th>\n",
       "      <th>Year</th>\n",
       "      <th>Color</th>\n",
       "      <th>Mileage</th>\n",
       "      <th>Price</th>\n",
       "      <th>Location</th>\n",
       "    </tr>\n",
       "  </thead>\n",
       "  <tbody>\n",
       "    <tr>\n",
       "      <th>0</th>\n",
       "      <td>1</td>\n",
       "      <td>Toyota</td>\n",
       "      <td>Camry</td>\n",
       "      <td>2018</td>\n",
       "      <td>White</td>\n",
       "      <td>45000</td>\n",
       "      <td>18000</td>\n",
       "      <td>Los Angeles</td>\n",
       "    </tr>\n",
       "    <tr>\n",
       "      <th>1</th>\n",
       "      <td>2</td>\n",
       "      <td>Honda</td>\n",
       "      <td>Civic</td>\n",
       "      <td>2019</td>\n",
       "      <td>Blue</td>\n",
       "      <td>35000</td>\n",
       "      <td>16000</td>\n",
       "      <td>New York</td>\n",
       "    </tr>\n",
       "    <tr>\n",
       "      <th>2</th>\n",
       "      <td>3</td>\n",
       "      <td>Ford</td>\n",
       "      <td>Focus</td>\n",
       "      <td>2017</td>\n",
       "      <td>Silver</td>\n",
       "      <td>55000</td>\n",
       "      <td>14000</td>\n",
       "      <td>Chicago</td>\n",
       "    </tr>\n",
       "    <tr>\n",
       "      <th>3</th>\n",
       "      <td>4</td>\n",
       "      <td>Chevrolet</td>\n",
       "      <td>Cruze</td>\n",
       "      <td>2016</td>\n",
       "      <td>Red</td>\n",
       "      <td>60000</td>\n",
       "      <td>12000</td>\n",
       "      <td>Miami</td>\n",
       "    </tr>\n",
       "    <tr>\n",
       "      <th>4</th>\n",
       "      <td>5</td>\n",
       "      <td>Hyundai</td>\n",
       "      <td>Elantra</td>\n",
       "      <td>2018</td>\n",
       "      <td>Black</td>\n",
       "      <td>40000</td>\n",
       "      <td>15000</td>\n",
       "      <td>San Francisco</td>\n",
       "    </tr>\n",
       "    <tr>\n",
       "      <th>...</th>\n",
       "      <td>...</td>\n",
       "      <td>...</td>\n",
       "      <td>...</td>\n",
       "      <td>...</td>\n",
       "      <td>...</td>\n",
       "      <td>...</td>\n",
       "      <td>...</td>\n",
       "      <td>...</td>\n",
       "    </tr>\n",
       "    <tr>\n",
       "      <th>1995</th>\n",
       "      <td>1996</td>\n",
       "      <td>Hyundai</td>\n",
       "      <td>Palisade</td>\n",
       "      <td>2019</td>\n",
       "      <td>Silver</td>\n",
       "      <td>65000</td>\n",
       "      <td>22000</td>\n",
       "      <td>San Francisco</td>\n",
       "    </tr>\n",
       "    <tr>\n",
       "      <th>1996</th>\n",
       "      <td>1997</td>\n",
       "      <td>Toyota</td>\n",
       "      <td>Sienna</td>\n",
       "      <td>2018</td>\n",
       "      <td>Red</td>\n",
       "      <td>55000</td>\n",
       "      <td>16000</td>\n",
       "      <td>Dallas</td>\n",
       "    </tr>\n",
       "    <tr>\n",
       "      <th>1997</th>\n",
       "      <td>1998</td>\n",
       "      <td>Honda</td>\n",
       "      <td>Fit</td>\n",
       "      <td>2018</td>\n",
       "      <td>Gray</td>\n",
       "      <td>50000</td>\n",
       "      <td>14000</td>\n",
       "      <td>Atlanta</td>\n",
       "    </tr>\n",
       "    <tr>\n",
       "      <th>1998</th>\n",
       "      <td>1999</td>\n",
       "      <td>Ford</td>\n",
       "      <td>Fusion</td>\n",
       "      <td>2017</td>\n",
       "      <td>White</td>\n",
       "      <td>55000</td>\n",
       "      <td>19000</td>\n",
       "      <td>Phoenix</td>\n",
       "    </tr>\n",
       "    <tr>\n",
       "      <th>1999</th>\n",
       "      <td>2000</td>\n",
       "      <td>Chevrolet</td>\n",
       "      <td>Malibu</td>\n",
       "      <td>2016</td>\n",
       "      <td>Blue</td>\n",
       "      <td>30000</td>\n",
       "      <td>23000</td>\n",
       "      <td>Houston</td>\n",
       "    </tr>\n",
       "  </tbody>\n",
       "</table>\n",
       "<p>2000 rows × 8 columns</p>\n",
       "</div>"
      ],
      "text/plain": [
       "      Car ID      Brand     Model  Year   Color  Mileage  Price       Location\n",
       "0          1     Toyota     Camry  2018   White    45000  18000    Los Angeles\n",
       "1          2      Honda     Civic  2019    Blue    35000  16000       New York\n",
       "2          3       Ford     Focus  2017  Silver    55000  14000        Chicago\n",
       "3          4  Chevrolet     Cruze  2016     Red    60000  12000          Miami\n",
       "4          5    Hyundai   Elantra  2018   Black    40000  15000  San Francisco\n",
       "...      ...        ...       ...   ...     ...      ...    ...            ...\n",
       "1995    1996    Hyundai  Palisade  2019  Silver    65000  22000  San Francisco\n",
       "1996    1997     Toyota    Sienna  2018     Red    55000  16000         Dallas\n",
       "1997    1998      Honda       Fit  2018    Gray    50000  14000        Atlanta\n",
       "1998    1999       Ford    Fusion  2017   White    55000  19000        Phoenix\n",
       "1999    2000  Chevrolet    Malibu  2016    Blue    30000  23000        Houston\n",
       "\n",
       "[2000 rows x 8 columns]"
      ]
     },
     "execution_count": 2,
     "metadata": {},
     "output_type": "execute_result"
    }
   ],
   "source": [
    "car_csv=pd.read_csv('Car Data.csv')\n",
    "car_csv"
   ]
  },
  {
   "cell_type": "markdown",
   "id": "ea218a97",
   "metadata": {},
   "source": [
    "# TOP 5 ROWS IN DATASET"
   ]
  },
  {
   "cell_type": "code",
   "execution_count": 3,
   "id": "fd656ae4",
   "metadata": {
    "scrolled": true
   },
   "outputs": [
    {
     "data": {
      "text/html": [
       "<div>\n",
       "<style scoped>\n",
       "    .dataframe tbody tr th:only-of-type {\n",
       "        vertical-align: middle;\n",
       "    }\n",
       "\n",
       "    .dataframe tbody tr th {\n",
       "        vertical-align: top;\n",
       "    }\n",
       "\n",
       "    .dataframe thead th {\n",
       "        text-align: right;\n",
       "    }\n",
       "</style>\n",
       "<table border=\"1\" class=\"dataframe\">\n",
       "  <thead>\n",
       "    <tr style=\"text-align: right;\">\n",
       "      <th></th>\n",
       "      <th>Car ID</th>\n",
       "      <th>Brand</th>\n",
       "      <th>Model</th>\n",
       "      <th>Year</th>\n",
       "      <th>Color</th>\n",
       "      <th>Mileage</th>\n",
       "      <th>Price</th>\n",
       "      <th>Location</th>\n",
       "    </tr>\n",
       "  </thead>\n",
       "  <tbody>\n",
       "    <tr>\n",
       "      <th>0</th>\n",
       "      <td>1</td>\n",
       "      <td>Toyota</td>\n",
       "      <td>Camry</td>\n",
       "      <td>2018</td>\n",
       "      <td>White</td>\n",
       "      <td>45000</td>\n",
       "      <td>18000</td>\n",
       "      <td>Los Angeles</td>\n",
       "    </tr>\n",
       "    <tr>\n",
       "      <th>1</th>\n",
       "      <td>2</td>\n",
       "      <td>Honda</td>\n",
       "      <td>Civic</td>\n",
       "      <td>2019</td>\n",
       "      <td>Blue</td>\n",
       "      <td>35000</td>\n",
       "      <td>16000</td>\n",
       "      <td>New York</td>\n",
       "    </tr>\n",
       "    <tr>\n",
       "      <th>2</th>\n",
       "      <td>3</td>\n",
       "      <td>Ford</td>\n",
       "      <td>Focus</td>\n",
       "      <td>2017</td>\n",
       "      <td>Silver</td>\n",
       "      <td>55000</td>\n",
       "      <td>14000</td>\n",
       "      <td>Chicago</td>\n",
       "    </tr>\n",
       "    <tr>\n",
       "      <th>3</th>\n",
       "      <td>4</td>\n",
       "      <td>Chevrolet</td>\n",
       "      <td>Cruze</td>\n",
       "      <td>2016</td>\n",
       "      <td>Red</td>\n",
       "      <td>60000</td>\n",
       "      <td>12000</td>\n",
       "      <td>Miami</td>\n",
       "    </tr>\n",
       "    <tr>\n",
       "      <th>4</th>\n",
       "      <td>5</td>\n",
       "      <td>Hyundai</td>\n",
       "      <td>Elantra</td>\n",
       "      <td>2018</td>\n",
       "      <td>Black</td>\n",
       "      <td>40000</td>\n",
       "      <td>15000</td>\n",
       "      <td>San Francisco</td>\n",
       "    </tr>\n",
       "  </tbody>\n",
       "</table>\n",
       "</div>"
      ],
      "text/plain": [
       "   Car ID      Brand    Model  Year   Color  Mileage  Price       Location\n",
       "0       1     Toyota    Camry  2018   White    45000  18000    Los Angeles\n",
       "1       2      Honda    Civic  2019    Blue    35000  16000       New York\n",
       "2       3       Ford    Focus  2017  Silver    55000  14000        Chicago\n",
       "3       4  Chevrolet    Cruze  2016     Red    60000  12000          Miami\n",
       "4       5    Hyundai  Elantra  2018   Black    40000  15000  San Francisco"
      ]
     },
     "execution_count": 3,
     "metadata": {},
     "output_type": "execute_result"
    }
   ],
   "source": [
    "car_csv.head()"
   ]
  },
  {
   "cell_type": "markdown",
   "id": "26174567",
   "metadata": {},
   "source": [
    " # LAST 5 ROWS OF DATASET"
   ]
  },
  {
   "cell_type": "code",
   "execution_count": 4,
   "id": "56352ab8",
   "metadata": {
    "scrolled": true
   },
   "outputs": [
    {
     "data": {
      "text/html": [
       "<div>\n",
       "<style scoped>\n",
       "    .dataframe tbody tr th:only-of-type {\n",
       "        vertical-align: middle;\n",
       "    }\n",
       "\n",
       "    .dataframe tbody tr th {\n",
       "        vertical-align: top;\n",
       "    }\n",
       "\n",
       "    .dataframe thead th {\n",
       "        text-align: right;\n",
       "    }\n",
       "</style>\n",
       "<table border=\"1\" class=\"dataframe\">\n",
       "  <thead>\n",
       "    <tr style=\"text-align: right;\">\n",
       "      <th></th>\n",
       "      <th>Car ID</th>\n",
       "      <th>Brand</th>\n",
       "      <th>Model</th>\n",
       "      <th>Year</th>\n",
       "      <th>Color</th>\n",
       "      <th>Mileage</th>\n",
       "      <th>Price</th>\n",
       "      <th>Location</th>\n",
       "    </tr>\n",
       "  </thead>\n",
       "  <tbody>\n",
       "    <tr>\n",
       "      <th>1995</th>\n",
       "      <td>1996</td>\n",
       "      <td>Hyundai</td>\n",
       "      <td>Palisade</td>\n",
       "      <td>2019</td>\n",
       "      <td>Silver</td>\n",
       "      <td>65000</td>\n",
       "      <td>22000</td>\n",
       "      <td>San Francisco</td>\n",
       "    </tr>\n",
       "    <tr>\n",
       "      <th>1996</th>\n",
       "      <td>1997</td>\n",
       "      <td>Toyota</td>\n",
       "      <td>Sienna</td>\n",
       "      <td>2018</td>\n",
       "      <td>Red</td>\n",
       "      <td>55000</td>\n",
       "      <td>16000</td>\n",
       "      <td>Dallas</td>\n",
       "    </tr>\n",
       "    <tr>\n",
       "      <th>1997</th>\n",
       "      <td>1998</td>\n",
       "      <td>Honda</td>\n",
       "      <td>Fit</td>\n",
       "      <td>2018</td>\n",
       "      <td>Gray</td>\n",
       "      <td>50000</td>\n",
       "      <td>14000</td>\n",
       "      <td>Atlanta</td>\n",
       "    </tr>\n",
       "    <tr>\n",
       "      <th>1998</th>\n",
       "      <td>1999</td>\n",
       "      <td>Ford</td>\n",
       "      <td>Fusion</td>\n",
       "      <td>2017</td>\n",
       "      <td>White</td>\n",
       "      <td>55000</td>\n",
       "      <td>19000</td>\n",
       "      <td>Phoenix</td>\n",
       "    </tr>\n",
       "    <tr>\n",
       "      <th>1999</th>\n",
       "      <td>2000</td>\n",
       "      <td>Chevrolet</td>\n",
       "      <td>Malibu</td>\n",
       "      <td>2016</td>\n",
       "      <td>Blue</td>\n",
       "      <td>30000</td>\n",
       "      <td>23000</td>\n",
       "      <td>Houston</td>\n",
       "    </tr>\n",
       "  </tbody>\n",
       "</table>\n",
       "</div>"
      ],
      "text/plain": [
       "      Car ID      Brand     Model  Year   Color  Mileage  Price       Location\n",
       "1995    1996    Hyundai  Palisade  2019  Silver    65000  22000  San Francisco\n",
       "1996    1997     Toyota    Sienna  2018     Red    55000  16000         Dallas\n",
       "1997    1998      Honda       Fit  2018    Gray    50000  14000        Atlanta\n",
       "1998    1999       Ford    Fusion  2017   White    55000  19000        Phoenix\n",
       "1999    2000  Chevrolet    Malibu  2016    Blue    30000  23000        Houston"
      ]
     },
     "execution_count": 4,
     "metadata": {},
     "output_type": "execute_result"
    }
   ],
   "source": [
    "car_csv.tail()"
   ]
  },
  {
   "cell_type": "markdown",
   "id": "e659bfc6",
   "metadata": {},
   "source": [
    "# SHAPE OF DATASET"
   ]
  },
  {
   "cell_type": "code",
   "execution_count": 5,
   "id": "119b96d8",
   "metadata": {},
   "outputs": [
    {
     "data": {
      "text/plain": [
       "(2000, 8)"
      ]
     },
     "execution_count": 5,
     "metadata": {},
     "output_type": "execute_result"
    }
   ],
   "source": [
    "car_csv.shape"
   ]
  },
  {
   "cell_type": "code",
   "execution_count": 6,
   "id": "07041c36",
   "metadata": {},
   "outputs": [
    {
     "data": {
      "text/plain": [
       "Index(['Car ID', 'Brand', 'Model', 'Year', 'Color', 'Mileage', 'Price',\n",
       "       'Location'],\n",
       "      dtype='object')"
      ]
     },
     "execution_count": 6,
     "metadata": {},
     "output_type": "execute_result"
    }
   ],
   "source": [
    "car_csv.columns"
   ]
  },
  {
   "cell_type": "code",
   "execution_count": 8,
   "id": "c8d84cad",
   "metadata": {},
   "outputs": [
    {
     "data": {
      "text/html": [
       "<div>\n",
       "<style scoped>\n",
       "    .dataframe tbody tr th:only-of-type {\n",
       "        vertical-align: middle;\n",
       "    }\n",
       "\n",
       "    .dataframe tbody tr th {\n",
       "        vertical-align: top;\n",
       "    }\n",
       "\n",
       "    .dataframe thead th {\n",
       "        text-align: right;\n",
       "    }\n",
       "</style>\n",
       "<table border=\"1\" class=\"dataframe\">\n",
       "  <thead>\n",
       "    <tr style=\"text-align: right;\">\n",
       "      <th></th>\n",
       "      <th>Car ID</th>\n",
       "      <th>Brand</th>\n",
       "      <th>Model</th>\n",
       "      <th>Year</th>\n",
       "      <th>Color</th>\n",
       "      <th>Mileage</th>\n",
       "      <th>Price</th>\n",
       "      <th>Location</th>\n",
       "    </tr>\n",
       "  </thead>\n",
       "  <tbody>\n",
       "    <tr>\n",
       "      <th>1659</th>\n",
       "      <td>1660</td>\n",
       "      <td>Chevrolet</td>\n",
       "      <td>Equinox</td>\n",
       "      <td>2019</td>\n",
       "      <td>Black</td>\n",
       "      <td>55000</td>\n",
       "      <td>12000</td>\n",
       "      <td>Miami</td>\n",
       "    </tr>\n",
       "  </tbody>\n",
       "</table>\n",
       "</div>"
      ],
      "text/plain": [
       "      Car ID      Brand    Model  Year  Color  Mileage  Price Location\n",
       "1659    1660  Chevrolet  Equinox  2019  Black    55000  12000    Miami"
      ]
     },
     "execution_count": 8,
     "metadata": {},
     "output_type": "execute_result"
    }
   ],
   "source": [
    "car_csv.sample()"
   ]
  },
  {
   "cell_type": "markdown",
   "id": "8d7efdc2",
   "metadata": {},
   "source": [
    "# INFORMATION ABOUT DATASET"
   ]
  },
  {
   "cell_type": "code",
   "execution_count": 9,
   "id": "66bcddcf",
   "metadata": {
    "scrolled": true
   },
   "outputs": [
    {
     "name": "stdout",
     "output_type": "stream",
     "text": [
      "<class 'pandas.core.frame.DataFrame'>\n",
      "RangeIndex: 2000 entries, 0 to 1999\n",
      "Data columns (total 8 columns):\n",
      " #   Column    Non-Null Count  Dtype \n",
      "---  ------    --------------  ----- \n",
      " 0   Car ID    2000 non-null   int64 \n",
      " 1   Brand     2000 non-null   object\n",
      " 2   Model     2000 non-null   object\n",
      " 3   Year      2000 non-null   int64 \n",
      " 4   Color     2000 non-null   object\n",
      " 5   Mileage   2000 non-null   int64 \n",
      " 6   Price     2000 non-null   int64 \n",
      " 7   Location  2000 non-null   object\n",
      "dtypes: int64(4), object(4)\n",
      "memory usage: 125.1+ KB\n"
     ]
    }
   ],
   "source": [
    "car_csv.info()"
   ]
  },
  {
   "cell_type": "markdown",
   "id": "95cdbc0b",
   "metadata": {},
   "source": [
    "# STATISTICAL SUMMARY OF DATASET"
   ]
  },
  {
   "cell_type": "code",
   "execution_count": 10,
   "id": "c50b0118",
   "metadata": {
    "scrolled": true
   },
   "outputs": [
    {
     "data": {
      "text/html": [
       "<div>\n",
       "<style scoped>\n",
       "    .dataframe tbody tr th:only-of-type {\n",
       "        vertical-align: middle;\n",
       "    }\n",
       "\n",
       "    .dataframe tbody tr th {\n",
       "        vertical-align: top;\n",
       "    }\n",
       "\n",
       "    .dataframe thead th {\n",
       "        text-align: right;\n",
       "    }\n",
       "</style>\n",
       "<table border=\"1\" class=\"dataframe\">\n",
       "  <thead>\n",
       "    <tr style=\"text-align: right;\">\n",
       "      <th></th>\n",
       "      <th>Car ID</th>\n",
       "      <th>Year</th>\n",
       "      <th>Mileage</th>\n",
       "      <th>Price</th>\n",
       "    </tr>\n",
       "  </thead>\n",
       "  <tbody>\n",
       "    <tr>\n",
       "      <th>count</th>\n",
       "      <td>2000.000000</td>\n",
       "      <td>2000.000000</td>\n",
       "      <td>2000.000000</td>\n",
       "      <td>2000.000000</td>\n",
       "    </tr>\n",
       "    <tr>\n",
       "      <th>mean</th>\n",
       "      <td>1000.500000</td>\n",
       "      <td>2017.454500</td>\n",
       "      <td>47452.500000</td>\n",
       "      <td>19605.000000</td>\n",
       "    </tr>\n",
       "    <tr>\n",
       "      <th>std</th>\n",
       "      <td>577.494589</td>\n",
       "      <td>1.704812</td>\n",
       "      <td>11016.279906</td>\n",
       "      <td>4777.592249</td>\n",
       "    </tr>\n",
       "    <tr>\n",
       "      <th>min</th>\n",
       "      <td>1.000000</td>\n",
       "      <td>2015.000000</td>\n",
       "      <td>25000.000000</td>\n",
       "      <td>12000.000000</td>\n",
       "    </tr>\n",
       "    <tr>\n",
       "      <th>25%</th>\n",
       "      <td>500.750000</td>\n",
       "      <td>2016.000000</td>\n",
       "      <td>40000.000000</td>\n",
       "      <td>16000.000000</td>\n",
       "    </tr>\n",
       "    <tr>\n",
       "      <th>50%</th>\n",
       "      <td>1000.500000</td>\n",
       "      <td>2017.000000</td>\n",
       "      <td>50000.000000</td>\n",
       "      <td>19000.000000</td>\n",
       "    </tr>\n",
       "    <tr>\n",
       "      <th>75%</th>\n",
       "      <td>1500.250000</td>\n",
       "      <td>2019.000000</td>\n",
       "      <td>55000.000000</td>\n",
       "      <td>23000.000000</td>\n",
       "    </tr>\n",
       "    <tr>\n",
       "      <th>max</th>\n",
       "      <td>2000.000000</td>\n",
       "      <td>2020.000000</td>\n",
       "      <td>70000.000000</td>\n",
       "      <td>29000.000000</td>\n",
       "    </tr>\n",
       "  </tbody>\n",
       "</table>\n",
       "</div>"
      ],
      "text/plain": [
       "            Car ID         Year       Mileage         Price\n",
       "count  2000.000000  2000.000000   2000.000000   2000.000000\n",
       "mean   1000.500000  2017.454500  47452.500000  19605.000000\n",
       "std     577.494589     1.704812  11016.279906   4777.592249\n",
       "min       1.000000  2015.000000  25000.000000  12000.000000\n",
       "25%     500.750000  2016.000000  40000.000000  16000.000000\n",
       "50%    1000.500000  2017.000000  50000.000000  19000.000000\n",
       "75%    1500.250000  2019.000000  55000.000000  23000.000000\n",
       "max    2000.000000  2020.000000  70000.000000  29000.000000"
      ]
     },
     "execution_count": 10,
     "metadata": {},
     "output_type": "execute_result"
    }
   ],
   "source": [
    "car_csv.describe()"
   ]
  },
  {
   "cell_type": "markdown",
   "id": "4e3e26ae",
   "metadata": {},
   "source": [
    "# FINDING THE UNIQUE VALUES IN COLUMNS"
   ]
  },
  {
   "cell_type": "code",
   "execution_count": 11,
   "id": "baf489da",
   "metadata": {},
   "outputs": [
    {
     "data": {
      "text/plain": [
       "array([2018, 2019, 2017, 2016, 2020, 2015], dtype=int64)"
      ]
     },
     "execution_count": 11,
     "metadata": {},
     "output_type": "execute_result"
    }
   ],
   "source": [
    "car_csv['Year'].unique()"
   ]
  },
  {
   "cell_type": "code",
   "execution_count": 13,
   "id": "811e4a9e",
   "metadata": {},
   "outputs": [
    {
     "data": {
      "text/plain": [
       "array([45000, 35000, 55000, 60000, 40000, 25000, 30000, 65000, 50000,\n",
       "       70000], dtype=int64)"
      ]
     },
     "execution_count": 13,
     "metadata": {},
     "output_type": "execute_result"
    }
   ],
   "source": [
    "car_csv['Mileage'].unique()"
   ]
  },
  {
   "cell_type": "code",
   "execution_count": 14,
   "id": "93f2f9ae",
   "metadata": {},
   "outputs": [
    {
     "data": {
      "text/plain": [
       "array(['Toyota', 'Honda', 'Ford', 'Chevrolet', 'Hyundai'], dtype=object)"
      ]
     },
     "execution_count": 14,
     "metadata": {},
     "output_type": "execute_result"
    }
   ],
   "source": [
    "car_csv['Brand'].unique()"
   ]
  },
  {
   "cell_type": "code",
   "execution_count": 15,
   "id": "8055b327",
   "metadata": {},
   "outputs": [
    {
     "data": {
      "text/plain": [
       "array(['White', 'Blue', 'Silver', 'Red', 'Black', 'Gray', 'Yellow'],\n",
       "      dtype=object)"
      ]
     },
     "execution_count": 15,
     "metadata": {},
     "output_type": "execute_result"
    }
   ],
   "source": [
    "car_csv['Color'].unique()"
   ]
  },
  {
   "cell_type": "code",
   "execution_count": 16,
   "id": "b6dcf73b",
   "metadata": {},
   "outputs": [
    {
     "data": {
      "text/plain": [
       "array([18000, 16000, 14000, 12000, 15000, 19000, 22000, 23000, 21000,\n",
       "       20000, 25000, 24000, 28000, 27000, 26000, 29000, 17000],\n",
       "      dtype=int64)"
      ]
     },
     "execution_count": 16,
     "metadata": {},
     "output_type": "execute_result"
    }
   ],
   "source": [
    "car_csv['Price'].unique()"
   ]
  },
  {
   "cell_type": "code",
   "execution_count": 17,
   "id": "a0063356",
   "metadata": {},
   "outputs": [
    {
     "data": {
      "text/plain": [
       "array(['Los Angeles', 'New York', 'Chicago', 'Miami', 'San Francisco',\n",
       "       'Dallas', 'Atlanta', 'Phoenix', 'Houston', 'Seattle'], dtype=object)"
      ]
     },
     "execution_count": 17,
     "metadata": {},
     "output_type": "execute_result"
    }
   ],
   "source": [
    "car_csv['Location'].unique()"
   ]
  },
  {
   "cell_type": "markdown",
   "id": "1bb2caa3",
   "metadata": {},
   "source": [
    "# FINDING NULL VALUES"
   ]
  },
  {
   "cell_type": "code",
   "execution_count": 18,
   "id": "b3e7f46a",
   "metadata": {
    "scrolled": true
   },
   "outputs": [
    {
     "data": {
      "text/plain": [
       "Car ID      0\n",
       "Brand       0\n",
       "Model       0\n",
       "Year        0\n",
       "Color       0\n",
       "Mileage     0\n",
       "Price       0\n",
       "Location    0\n",
       "dtype: int64"
      ]
     },
     "execution_count": 18,
     "metadata": {},
     "output_type": "execute_result"
    }
   ],
   "source": [
    "car_csv.isnull().sum()"
   ]
  },
  {
   "cell_type": "markdown",
   "id": "4f6e21a0",
   "metadata": {},
   "source": [
    "# CHECKING FOR DUPLICATE VALUES"
   ]
  },
  {
   "cell_type": "code",
   "execution_count": 19,
   "id": "c333a423",
   "metadata": {
    "scrolled": true
   },
   "outputs": [
    {
     "data": {
      "text/plain": [
       "0       False\n",
       "1       False\n",
       "2       False\n",
       "3       False\n",
       "4       False\n",
       "        ...  \n",
       "1995    False\n",
       "1996    False\n",
       "1997    False\n",
       "1998    False\n",
       "1999    False\n",
       "Length: 2000, dtype: bool"
      ]
     },
     "execution_count": 19,
     "metadata": {},
     "output_type": "execute_result"
    }
   ],
   "source": [
    "car_csv.duplicated()"
   ]
  },
  {
   "cell_type": "markdown",
   "id": "7e85a5d9",
   "metadata": {},
   "source": [
    "# DROPPING THE DUPLICATE VALUES"
   ]
  },
  {
   "cell_type": "code",
   "execution_count": 20,
   "id": "2488919b",
   "metadata": {},
   "outputs": [
    {
     "data": {
      "text/html": [
       "<div>\n",
       "<style scoped>\n",
       "    .dataframe tbody tr th:only-of-type {\n",
       "        vertical-align: middle;\n",
       "    }\n",
       "\n",
       "    .dataframe tbody tr th {\n",
       "        vertical-align: top;\n",
       "    }\n",
       "\n",
       "    .dataframe thead th {\n",
       "        text-align: right;\n",
       "    }\n",
       "</style>\n",
       "<table border=\"1\" class=\"dataframe\">\n",
       "  <thead>\n",
       "    <tr style=\"text-align: right;\">\n",
       "      <th></th>\n",
       "      <th>Car ID</th>\n",
       "      <th>Brand</th>\n",
       "      <th>Model</th>\n",
       "      <th>Year</th>\n",
       "      <th>Color</th>\n",
       "      <th>Mileage</th>\n",
       "      <th>Price</th>\n",
       "      <th>Location</th>\n",
       "    </tr>\n",
       "  </thead>\n",
       "  <tbody>\n",
       "    <tr>\n",
       "      <th>0</th>\n",
       "      <td>1</td>\n",
       "      <td>Toyota</td>\n",
       "      <td>Camry</td>\n",
       "      <td>2018</td>\n",
       "      <td>White</td>\n",
       "      <td>45000</td>\n",
       "      <td>18000</td>\n",
       "      <td>Los Angeles</td>\n",
       "    </tr>\n",
       "    <tr>\n",
       "      <th>1</th>\n",
       "      <td>2</td>\n",
       "      <td>Honda</td>\n",
       "      <td>Civic</td>\n",
       "      <td>2019</td>\n",
       "      <td>Blue</td>\n",
       "      <td>35000</td>\n",
       "      <td>16000</td>\n",
       "      <td>New York</td>\n",
       "    </tr>\n",
       "    <tr>\n",
       "      <th>2</th>\n",
       "      <td>3</td>\n",
       "      <td>Ford</td>\n",
       "      <td>Focus</td>\n",
       "      <td>2017</td>\n",
       "      <td>Silver</td>\n",
       "      <td>55000</td>\n",
       "      <td>14000</td>\n",
       "      <td>Chicago</td>\n",
       "    </tr>\n",
       "    <tr>\n",
       "      <th>3</th>\n",
       "      <td>4</td>\n",
       "      <td>Chevrolet</td>\n",
       "      <td>Cruze</td>\n",
       "      <td>2016</td>\n",
       "      <td>Red</td>\n",
       "      <td>60000</td>\n",
       "      <td>12000</td>\n",
       "      <td>Miami</td>\n",
       "    </tr>\n",
       "    <tr>\n",
       "      <th>4</th>\n",
       "      <td>5</td>\n",
       "      <td>Hyundai</td>\n",
       "      <td>Elantra</td>\n",
       "      <td>2018</td>\n",
       "      <td>Black</td>\n",
       "      <td>40000</td>\n",
       "      <td>15000</td>\n",
       "      <td>San Francisco</td>\n",
       "    </tr>\n",
       "    <tr>\n",
       "      <th>...</th>\n",
       "      <td>...</td>\n",
       "      <td>...</td>\n",
       "      <td>...</td>\n",
       "      <td>...</td>\n",
       "      <td>...</td>\n",
       "      <td>...</td>\n",
       "      <td>...</td>\n",
       "      <td>...</td>\n",
       "    </tr>\n",
       "    <tr>\n",
       "      <th>1995</th>\n",
       "      <td>1996</td>\n",
       "      <td>Hyundai</td>\n",
       "      <td>Palisade</td>\n",
       "      <td>2019</td>\n",
       "      <td>Silver</td>\n",
       "      <td>65000</td>\n",
       "      <td>22000</td>\n",
       "      <td>San Francisco</td>\n",
       "    </tr>\n",
       "    <tr>\n",
       "      <th>1996</th>\n",
       "      <td>1997</td>\n",
       "      <td>Toyota</td>\n",
       "      <td>Sienna</td>\n",
       "      <td>2018</td>\n",
       "      <td>Red</td>\n",
       "      <td>55000</td>\n",
       "      <td>16000</td>\n",
       "      <td>Dallas</td>\n",
       "    </tr>\n",
       "    <tr>\n",
       "      <th>1997</th>\n",
       "      <td>1998</td>\n",
       "      <td>Honda</td>\n",
       "      <td>Fit</td>\n",
       "      <td>2018</td>\n",
       "      <td>Gray</td>\n",
       "      <td>50000</td>\n",
       "      <td>14000</td>\n",
       "      <td>Atlanta</td>\n",
       "    </tr>\n",
       "    <tr>\n",
       "      <th>1998</th>\n",
       "      <td>1999</td>\n",
       "      <td>Ford</td>\n",
       "      <td>Fusion</td>\n",
       "      <td>2017</td>\n",
       "      <td>White</td>\n",
       "      <td>55000</td>\n",
       "      <td>19000</td>\n",
       "      <td>Phoenix</td>\n",
       "    </tr>\n",
       "    <tr>\n",
       "      <th>1999</th>\n",
       "      <td>2000</td>\n",
       "      <td>Chevrolet</td>\n",
       "      <td>Malibu</td>\n",
       "      <td>2016</td>\n",
       "      <td>Blue</td>\n",
       "      <td>30000</td>\n",
       "      <td>23000</td>\n",
       "      <td>Houston</td>\n",
       "    </tr>\n",
       "  </tbody>\n",
       "</table>\n",
       "<p>2000 rows × 8 columns</p>\n",
       "</div>"
      ],
      "text/plain": [
       "      Car ID      Brand     Model  Year   Color  Mileage  Price       Location\n",
       "0          1     Toyota     Camry  2018   White    45000  18000    Los Angeles\n",
       "1          2      Honda     Civic  2019    Blue    35000  16000       New York\n",
       "2          3       Ford     Focus  2017  Silver    55000  14000        Chicago\n",
       "3          4  Chevrolet     Cruze  2016     Red    60000  12000          Miami\n",
       "4          5    Hyundai   Elantra  2018   Black    40000  15000  San Francisco\n",
       "...      ...        ...       ...   ...     ...      ...    ...            ...\n",
       "1995    1996    Hyundai  Palisade  2019  Silver    65000  22000  San Francisco\n",
       "1996    1997     Toyota    Sienna  2018     Red    55000  16000         Dallas\n",
       "1997    1998      Honda       Fit  2018    Gray    50000  14000        Atlanta\n",
       "1998    1999       Ford    Fusion  2017   White    55000  19000        Phoenix\n",
       "1999    2000  Chevrolet    Malibu  2016    Blue    30000  23000        Houston\n",
       "\n",
       "[2000 rows x 8 columns]"
      ]
     },
     "execution_count": 20,
     "metadata": {},
     "output_type": "execute_result"
    }
   ],
   "source": [
    "car_csv.drop_duplicates()"
   ]
  },
  {
   "cell_type": "markdown",
   "id": "76989ee2",
   "metadata": {},
   "source": [
    "# COUNTING THE BRAND OF CARS"
   ]
  },
  {
   "cell_type": "code",
   "execution_count": 26,
   "id": "270bb1e1",
   "metadata": {},
   "outputs": [
    {
     "data": {
      "text/plain": [
       "Toyota       438\n",
       "Honda        411\n",
       "Ford         384\n",
       "Chevrolet    384\n",
       "Hyundai      383\n",
       "Name: Brand, dtype: int64"
      ]
     },
     "execution_count": 26,
     "metadata": {},
     "output_type": "execute_result"
    }
   ],
   "source": [
    "car_csv['Brand'].value_counts().sort_values(ascending=False)"
   ]
  },
  {
   "cell_type": "code",
   "execution_count": 29,
   "id": "eeb2b9f3",
   "metadata": {
    "scrolled": true
   },
   "outputs": [
    {
     "data": {
      "text/plain": [
       "Civic       109\n",
       "Camry        82\n",
       "Fusion       82\n",
       "Cruze        55\n",
       "Traverse     55\n",
       "           ... \n",
       "Rav27         2\n",
       "Rav28         2\n",
       "Rav29         2\n",
       "Rav30         2\n",
       "Rav31         1\n",
       "Name: Model, Length: 68, dtype: int64"
      ]
     },
     "execution_count": 29,
     "metadata": {},
     "output_type": "execute_result"
    }
   ],
   "source": [
    "car_csv['Model'].value_counts().sort_values(ascending=False)"
   ]
  },
  {
   "cell_type": "markdown",
   "id": "df27db1d",
   "metadata": {},
   "source": [
    "# COUNTING THE NO.OF SPECIFIC MODELS OF EACH CAR THROUGH IT'S BRAND"
   ]
  },
  {
   "cell_type": "code",
   "execution_count": 30,
   "id": "27e5f488",
   "metadata": {
    "scrolled": true
   },
   "outputs": [
    {
     "data": {
      "text/plain": [
       "Brand      Model \n",
       "Honda      Civic     109\n",
       "Toyota     Camry      82\n",
       "Ford       Fusion     82\n",
       "Chevrolet  Cruze      55\n",
       "Toyota     Sienna     55\n",
       "                    ... \n",
       "           Rav14       2\n",
       "           Rav13       2\n",
       "           Rav11       2\n",
       "           Rav10       2\n",
       "           Rav31       1\n",
       "Name: Model, Length: 68, dtype: int64"
      ]
     },
     "execution_count": 30,
     "metadata": {},
     "output_type": "execute_result"
    }
   ],
   "source": [
    "car_csv.groupby('Brand')['Model'].value_counts().sort_values(ascending=False)"
   ]
  },
  {
   "cell_type": "markdown",
   "id": "80dff0ae",
   "metadata": {},
   "source": [
    "# GROUPING THE MODEL OF CARS AND FETCHING THE MAXIMUM MILEAGE AMONG THEM"
   ]
  },
  {
   "cell_type": "code",
   "execution_count": 36,
   "id": "2b97fe32",
   "metadata": {
    "scrolled": true
   },
   "outputs": [
    {
     "data": {
      "text/plain": [
       "Model\n",
       "4Runner    70000\n",
       "Impala     70000\n",
       "Malibu     70000\n",
       "Mustang    70000\n",
       "Odyssey    70000\n",
       "           ...  \n",
       "Rav5       45000\n",
       "Rav15      40000\n",
       "Rav28      40000\n",
       "Rav6       35000\n",
       "Rav31      30000\n",
       "Name: Mileage, Length: 68, dtype: int64"
      ]
     },
     "execution_count": 36,
     "metadata": {},
     "output_type": "execute_result"
    }
   ],
   "source": [
    "car_csv.groupby('Model')['Mileage'].max().sort_values(ascending=False)"
   ]
  },
  {
   "cell_type": "markdown",
   "id": "2f51a9e9",
   "metadata": {},
   "source": [
    "# GROUPING THE MODELS OF EACH CAR AND FETCHING THE MAXIMUM PRICES OF EACH MODELS"
   ]
  },
  {
   "cell_type": "code",
   "execution_count": 39,
   "id": "b25d95ff",
   "metadata": {},
   "outputs": [
    {
     "data": {
      "text/plain": [
       "Model\n",
       "4Runner    29000\n",
       "Genesis    29000\n",
       "Kona       29000\n",
       "Malibu     29000\n",
       "Mustang    29000\n",
       "           ...  \n",
       "Rav15      18000\n",
       "Rav12      18000\n",
       "Rav13      17000\n",
       "Rav16      16000\n",
       "Rav14      15000\n",
       "Name: Price, Length: 68, dtype: int64"
      ]
     },
     "execution_count": 39,
     "metadata": {},
     "output_type": "execute_result"
    }
   ],
   "source": [
    "car_csv.groupby('Model')['Price'].max().sort_values(ascending=False)"
   ]
  },
  {
   "cell_type": "markdown",
   "id": "5c18f369",
   "metadata": {},
   "source": [
    "# GROUPING BY BRAND AND FETCHING THE MAXIMUM PRICES OF EACH BRAND"
   ]
  },
  {
   "cell_type": "code",
   "execution_count": 41,
   "id": "64ad5d04",
   "metadata": {},
   "outputs": [
    {
     "data": {
      "text/plain": [
       "Brand\n",
       "Chevrolet    29000\n",
       "Ford         29000\n",
       "Honda        29000\n",
       "Hyundai      29000\n",
       "Toyota       29000\n",
       "Name: Price, dtype: int64"
      ]
     },
     "execution_count": 41,
     "metadata": {},
     "output_type": "execute_result"
    }
   ],
   "source": [
    "car_csv.groupby('Brand')['Price'].max().sort_values(ascending=False)"
   ]
  },
  {
   "cell_type": "markdown",
   "id": "5070f2b2",
   "metadata": {},
   "source": [
    "# SEGREGATING NUMERICAL COLUMN AND CATEGORICAL COLUMN"
   ]
  },
  {
   "cell_type": "code",
   "execution_count": 43,
   "id": "102465d2",
   "metadata": {},
   "outputs": [],
   "source": [
    "num_csv=car_csv.select_dtypes(exclude=object)"
   ]
  },
  {
   "cell_type": "code",
   "execution_count": 44,
   "id": "232f2e15",
   "metadata": {},
   "outputs": [
    {
     "data": {
      "text/html": [
       "<div>\n",
       "<style scoped>\n",
       "    .dataframe tbody tr th:only-of-type {\n",
       "        vertical-align: middle;\n",
       "    }\n",
       "\n",
       "    .dataframe tbody tr th {\n",
       "        vertical-align: top;\n",
       "    }\n",
       "\n",
       "    .dataframe thead th {\n",
       "        text-align: right;\n",
       "    }\n",
       "</style>\n",
       "<table border=\"1\" class=\"dataframe\">\n",
       "  <thead>\n",
       "    <tr style=\"text-align: right;\">\n",
       "      <th></th>\n",
       "      <th>Car ID</th>\n",
       "      <th>Year</th>\n",
       "      <th>Mileage</th>\n",
       "      <th>Price</th>\n",
       "    </tr>\n",
       "  </thead>\n",
       "  <tbody>\n",
       "    <tr>\n",
       "      <th>0</th>\n",
       "      <td>1</td>\n",
       "      <td>2018</td>\n",
       "      <td>45000</td>\n",
       "      <td>18000</td>\n",
       "    </tr>\n",
       "    <tr>\n",
       "      <th>1</th>\n",
       "      <td>2</td>\n",
       "      <td>2019</td>\n",
       "      <td>35000</td>\n",
       "      <td>16000</td>\n",
       "    </tr>\n",
       "    <tr>\n",
       "      <th>2</th>\n",
       "      <td>3</td>\n",
       "      <td>2017</td>\n",
       "      <td>55000</td>\n",
       "      <td>14000</td>\n",
       "    </tr>\n",
       "    <tr>\n",
       "      <th>3</th>\n",
       "      <td>4</td>\n",
       "      <td>2016</td>\n",
       "      <td>60000</td>\n",
       "      <td>12000</td>\n",
       "    </tr>\n",
       "    <tr>\n",
       "      <th>4</th>\n",
       "      <td>5</td>\n",
       "      <td>2018</td>\n",
       "      <td>40000</td>\n",
       "      <td>15000</td>\n",
       "    </tr>\n",
       "    <tr>\n",
       "      <th>...</th>\n",
       "      <td>...</td>\n",
       "      <td>...</td>\n",
       "      <td>...</td>\n",
       "      <td>...</td>\n",
       "    </tr>\n",
       "    <tr>\n",
       "      <th>1995</th>\n",
       "      <td>1996</td>\n",
       "      <td>2019</td>\n",
       "      <td>65000</td>\n",
       "      <td>22000</td>\n",
       "    </tr>\n",
       "    <tr>\n",
       "      <th>1996</th>\n",
       "      <td>1997</td>\n",
       "      <td>2018</td>\n",
       "      <td>55000</td>\n",
       "      <td>16000</td>\n",
       "    </tr>\n",
       "    <tr>\n",
       "      <th>1997</th>\n",
       "      <td>1998</td>\n",
       "      <td>2018</td>\n",
       "      <td>50000</td>\n",
       "      <td>14000</td>\n",
       "    </tr>\n",
       "    <tr>\n",
       "      <th>1998</th>\n",
       "      <td>1999</td>\n",
       "      <td>2017</td>\n",
       "      <td>55000</td>\n",
       "      <td>19000</td>\n",
       "    </tr>\n",
       "    <tr>\n",
       "      <th>1999</th>\n",
       "      <td>2000</td>\n",
       "      <td>2016</td>\n",
       "      <td>30000</td>\n",
       "      <td>23000</td>\n",
       "    </tr>\n",
       "  </tbody>\n",
       "</table>\n",
       "<p>2000 rows × 4 columns</p>\n",
       "</div>"
      ],
      "text/plain": [
       "      Car ID  Year  Mileage  Price\n",
       "0          1  2018    45000  18000\n",
       "1          2  2019    35000  16000\n",
       "2          3  2017    55000  14000\n",
       "3          4  2016    60000  12000\n",
       "4          5  2018    40000  15000\n",
       "...      ...   ...      ...    ...\n",
       "1995    1996  2019    65000  22000\n",
       "1996    1997  2018    55000  16000\n",
       "1997    1998  2018    50000  14000\n",
       "1998    1999  2017    55000  19000\n",
       "1999    2000  2016    30000  23000\n",
       "\n",
       "[2000 rows x 4 columns]"
      ]
     },
     "execution_count": 44,
     "metadata": {},
     "output_type": "execute_result"
    }
   ],
   "source": [
    "num_csv"
   ]
  },
  {
   "cell_type": "code",
   "execution_count": 45,
   "id": "c8ec33b2",
   "metadata": {},
   "outputs": [],
   "source": [
    "cat_csv=car_csv.select_dtypes(include=object)"
   ]
  },
  {
   "cell_type": "code",
   "execution_count": 46,
   "id": "41d2df80",
   "metadata": {},
   "outputs": [
    {
     "data": {
      "text/html": [
       "<div>\n",
       "<style scoped>\n",
       "    .dataframe tbody tr th:only-of-type {\n",
       "        vertical-align: middle;\n",
       "    }\n",
       "\n",
       "    .dataframe tbody tr th {\n",
       "        vertical-align: top;\n",
       "    }\n",
       "\n",
       "    .dataframe thead th {\n",
       "        text-align: right;\n",
       "    }\n",
       "</style>\n",
       "<table border=\"1\" class=\"dataframe\">\n",
       "  <thead>\n",
       "    <tr style=\"text-align: right;\">\n",
       "      <th></th>\n",
       "      <th>Brand</th>\n",
       "      <th>Model</th>\n",
       "      <th>Color</th>\n",
       "      <th>Location</th>\n",
       "    </tr>\n",
       "  </thead>\n",
       "  <tbody>\n",
       "    <tr>\n",
       "      <th>0</th>\n",
       "      <td>Toyota</td>\n",
       "      <td>Camry</td>\n",
       "      <td>White</td>\n",
       "      <td>Los Angeles</td>\n",
       "    </tr>\n",
       "    <tr>\n",
       "      <th>1</th>\n",
       "      <td>Honda</td>\n",
       "      <td>Civic</td>\n",
       "      <td>Blue</td>\n",
       "      <td>New York</td>\n",
       "    </tr>\n",
       "    <tr>\n",
       "      <th>2</th>\n",
       "      <td>Ford</td>\n",
       "      <td>Focus</td>\n",
       "      <td>Silver</td>\n",
       "      <td>Chicago</td>\n",
       "    </tr>\n",
       "    <tr>\n",
       "      <th>3</th>\n",
       "      <td>Chevrolet</td>\n",
       "      <td>Cruze</td>\n",
       "      <td>Red</td>\n",
       "      <td>Miami</td>\n",
       "    </tr>\n",
       "    <tr>\n",
       "      <th>4</th>\n",
       "      <td>Hyundai</td>\n",
       "      <td>Elantra</td>\n",
       "      <td>Black</td>\n",
       "      <td>San Francisco</td>\n",
       "    </tr>\n",
       "    <tr>\n",
       "      <th>...</th>\n",
       "      <td>...</td>\n",
       "      <td>...</td>\n",
       "      <td>...</td>\n",
       "      <td>...</td>\n",
       "    </tr>\n",
       "    <tr>\n",
       "      <th>1995</th>\n",
       "      <td>Hyundai</td>\n",
       "      <td>Palisade</td>\n",
       "      <td>Silver</td>\n",
       "      <td>San Francisco</td>\n",
       "    </tr>\n",
       "    <tr>\n",
       "      <th>1996</th>\n",
       "      <td>Toyota</td>\n",
       "      <td>Sienna</td>\n",
       "      <td>Red</td>\n",
       "      <td>Dallas</td>\n",
       "    </tr>\n",
       "    <tr>\n",
       "      <th>1997</th>\n",
       "      <td>Honda</td>\n",
       "      <td>Fit</td>\n",
       "      <td>Gray</td>\n",
       "      <td>Atlanta</td>\n",
       "    </tr>\n",
       "    <tr>\n",
       "      <th>1998</th>\n",
       "      <td>Ford</td>\n",
       "      <td>Fusion</td>\n",
       "      <td>White</td>\n",
       "      <td>Phoenix</td>\n",
       "    </tr>\n",
       "    <tr>\n",
       "      <th>1999</th>\n",
       "      <td>Chevrolet</td>\n",
       "      <td>Malibu</td>\n",
       "      <td>Blue</td>\n",
       "      <td>Houston</td>\n",
       "    </tr>\n",
       "  </tbody>\n",
       "</table>\n",
       "<p>2000 rows × 4 columns</p>\n",
       "</div>"
      ],
      "text/plain": [
       "          Brand     Model   Color       Location\n",
       "0        Toyota     Camry   White    Los Angeles\n",
       "1         Honda     Civic    Blue       New York\n",
       "2          Ford     Focus  Silver        Chicago\n",
       "3     Chevrolet     Cruze     Red          Miami\n",
       "4       Hyundai   Elantra   Black  San Francisco\n",
       "...         ...       ...     ...            ...\n",
       "1995    Hyundai  Palisade  Silver  San Francisco\n",
       "1996     Toyota    Sienna     Red         Dallas\n",
       "1997      Honda       Fit    Gray        Atlanta\n",
       "1998       Ford    Fusion   White        Phoenix\n",
       "1999  Chevrolet    Malibu    Blue        Houston\n",
       "\n",
       "[2000 rows x 4 columns]"
      ]
     },
     "execution_count": 46,
     "metadata": {},
     "output_type": "execute_result"
    }
   ],
   "source": [
    "cat_csv"
   ]
  },
  {
   "cell_type": "markdown",
   "id": "d6792652",
   "metadata": {},
   "source": [
    "# UNIVARIATE ANALYSIS ON NUMERICAL COLUMN"
   ]
  },
  {
   "cell_type": "code",
   "execution_count": 48,
   "id": "5fcdd816",
   "metadata": {},
   "outputs": [
    {
     "data": {
      "text/plain": [
       "47452.5"
      ]
     },
     "execution_count": 48,
     "metadata": {},
     "output_type": "execute_result"
    }
   ],
   "source": [
    "num_csv['Mileage'].mean()  # ANALYSIS ON MILEAGE COLUMN"
   ]
  },
  {
   "cell_type": "code",
   "execution_count": 49,
   "id": "522fd49f",
   "metadata": {},
   "outputs": [
    {
     "data": {
      "text/plain": [
       "70000"
      ]
     },
     "execution_count": 49,
     "metadata": {},
     "output_type": "execute_result"
    }
   ],
   "source": [
    "num_csv['Mileage'].max()"
   ]
  },
  {
   "cell_type": "code",
   "execution_count": 50,
   "id": "3530092a",
   "metadata": {},
   "outputs": [
    {
     "data": {
      "text/plain": [
       "25000"
      ]
     },
     "execution_count": 50,
     "metadata": {},
     "output_type": "execute_result"
    }
   ],
   "source": [
    "num_csv['Mileage'].min()"
   ]
  },
  {
   "cell_type": "code",
   "execution_count": 52,
   "id": "0f6ac28d",
   "metadata": {},
   "outputs": [
    {
     "data": {
      "text/plain": [
       "94905000"
      ]
     },
     "execution_count": 52,
     "metadata": {},
     "output_type": "execute_result"
    }
   ],
   "source": [
    "num_csv['Mileage'].sum()"
   ]
  },
  {
   "cell_type": "code",
   "execution_count": 63,
   "id": "a79cd9f9",
   "metadata": {},
   "outputs": [
    {
     "data": {
      "text/plain": [
       "<Axes: xlabel='Mileage', ylabel='count'>"
      ]
     },
     "execution_count": 63,
     "metadata": {},
     "output_type": "execute_result"
    },
    {
     "data": {
      "image/png": "[encoded data removed]",
      "text/plain": [
       "<Figure size 640x480 with 1 Axes>"
      ]
     },
     "metadata": {},
     "output_type": "display_data"
    }
   ],
   "source": [
    "sb.countplot(data=num_csv,x='Mileage')"
   ]
  },
  {
   "cell_type": "markdown",
   "id": "29e064ce",
   "metadata": {},
   "source": [
    "# ANALYSIS ON PRICE COLUMN"
   ]
  },
  {
   "cell_type": "code",
   "execution_count": 56,
   "id": "9c38a439",
   "metadata": {},
   "outputs": [
    {
     "data": {
      "text/plain": [
       "29000"
      ]
     },
     "execution_count": 56,
     "metadata": {},
     "output_type": "execute_result"
    }
   ],
   "source": [
    "num_csv['Price'].max()"
   ]
  },
  {
   "cell_type": "code",
   "execution_count": 57,
   "id": "3c668f27",
   "metadata": {},
   "outputs": [
    {
     "data": {
      "text/plain": [
       "12000"
      ]
     },
     "execution_count": 57,
     "metadata": {},
     "output_type": "execute_result"
    }
   ],
   "source": [
    "num_csv['Price'].min()"
   ]
  },
  {
   "cell_type": "code",
   "execution_count": 58,
   "id": "8927c039",
   "metadata": {},
   "outputs": [
    {
     "data": {
      "text/plain": [
       "19605.0"
      ]
     },
     "execution_count": 58,
     "metadata": {},
     "output_type": "execute_result"
    }
   ],
   "source": [
    "num_csv['Price'].mean()"
   ]
  },
  {
   "cell_type": "code",
   "execution_count": 59,
   "id": "076ab532",
   "metadata": {},
   "outputs": [
    {
     "data": {
      "text/plain": [
       "39210000"
      ]
     },
     "execution_count": 59,
     "metadata": {},
     "output_type": "execute_result"
    }
   ],
   "source": [
    "num_csv['Price'].sum()"
   ]
  },
  {
   "cell_type": "code",
   "execution_count": 61,
   "id": "320b9b81",
   "metadata": {},
   "outputs": [
    {
     "data": {
      "text/plain": [
       "<Axes: xlabel='Price', ylabel='count'>"
      ]
     },
     "execution_count": 61,
     "metadata": {},
     "output_type": "execute_result"
    },
    {
     "data": {
      "image/png": "[encoded data removed]",
      "text/plain": [
       "<Figure size 1600x500 with 1 Axes>"
      ]
     },
     "metadata": {},
     "output_type": "display_data"
    }
   ],
   "source": [
    "plt.figure(figsize=(16,5))\n",
    "sb.countplot(data=num_csv,x='Price')"
   ]
  },
  {
   "cell_type": "markdown",
   "id": "bc212ab2",
   "metadata": {},
   "source": [
    "# BIVARIATE ANALYSIS"
   ]
  },
  {
   "cell_type": "code",
   "execution_count": 64,
   "id": "9f7456ae",
   "metadata": {},
   "outputs": [
    {
     "data": {
      "text/html": [
       "<div>\n",
       "<style scoped>\n",
       "    .dataframe tbody tr th:only-of-type {\n",
       "        vertical-align: middle;\n",
       "    }\n",
       "\n",
       "    .dataframe tbody tr th {\n",
       "        vertical-align: top;\n",
       "    }\n",
       "\n",
       "    .dataframe thead th {\n",
       "        text-align: right;\n",
       "    }\n",
       "</style>\n",
       "<table border=\"1\" class=\"dataframe\">\n",
       "  <thead>\n",
       "    <tr style=\"text-align: right;\">\n",
       "      <th></th>\n",
       "      <th>Brand</th>\n",
       "      <th>Model</th>\n",
       "      <th>Color</th>\n",
       "      <th>Location</th>\n",
       "    </tr>\n",
       "  </thead>\n",
       "  <tbody>\n",
       "    <tr>\n",
       "      <th>0</th>\n",
       "      <td>Toyota</td>\n",
       "      <td>Camry</td>\n",
       "      <td>White</td>\n",
       "      <td>Los Angeles</td>\n",
       "    </tr>\n",
       "    <tr>\n",
       "      <th>40</th>\n",
       "      <td>Toyota</td>\n",
       "      <td>Camry</td>\n",
       "      <td>Silver</td>\n",
       "      <td>Los Angeles</td>\n",
       "    </tr>\n",
       "    <tr>\n",
       "      <th>71</th>\n",
       "      <td>Toyota</td>\n",
       "      <td>Camry</td>\n",
       "      <td>White</td>\n",
       "      <td>Los Angeles</td>\n",
       "    </tr>\n",
       "    <tr>\n",
       "      <th>73</th>\n",
       "      <td>Toyota</td>\n",
       "      <td>Camry</td>\n",
       "      <td>White</td>\n",
       "      <td>Los Angeles</td>\n",
       "    </tr>\n",
       "    <tr>\n",
       "      <th>113</th>\n",
       "      <td>Toyota</td>\n",
       "      <td>Camry</td>\n",
       "      <td>Silver</td>\n",
       "      <td>Los Angeles</td>\n",
       "    </tr>\n",
       "    <tr>\n",
       "      <th>...</th>\n",
       "      <td>...</td>\n",
       "      <td>...</td>\n",
       "      <td>...</td>\n",
       "      <td>...</td>\n",
       "    </tr>\n",
       "    <tr>\n",
       "      <th>1896</th>\n",
       "      <td>Toyota</td>\n",
       "      <td>Camry</td>\n",
       "      <td>White</td>\n",
       "      <td>Los Angeles</td>\n",
       "    </tr>\n",
       "    <tr>\n",
       "      <th>1898</th>\n",
       "      <td>Toyota</td>\n",
       "      <td>Camry</td>\n",
       "      <td>White</td>\n",
       "      <td>Los Angeles</td>\n",
       "    </tr>\n",
       "    <tr>\n",
       "      <th>1938</th>\n",
       "      <td>Toyota</td>\n",
       "      <td>Camry</td>\n",
       "      <td>Silver</td>\n",
       "      <td>Los Angeles</td>\n",
       "    </tr>\n",
       "    <tr>\n",
       "      <th>1969</th>\n",
       "      <td>Toyota</td>\n",
       "      <td>Camry</td>\n",
       "      <td>White</td>\n",
       "      <td>Los Angeles</td>\n",
       "    </tr>\n",
       "    <tr>\n",
       "      <th>1971</th>\n",
       "      <td>Toyota</td>\n",
       "      <td>Camry</td>\n",
       "      <td>White</td>\n",
       "      <td>Los Angeles</td>\n",
       "    </tr>\n",
       "  </tbody>\n",
       "</table>\n",
       "<p>82 rows × 4 columns</p>\n",
       "</div>"
      ],
      "text/plain": [
       "       Brand  Model   Color     Location\n",
       "0     Toyota  Camry   White  Los Angeles\n",
       "40    Toyota  Camry  Silver  Los Angeles\n",
       "71    Toyota  Camry   White  Los Angeles\n",
       "73    Toyota  Camry   White  Los Angeles\n",
       "113   Toyota  Camry  Silver  Los Angeles\n",
       "...      ...    ...     ...          ...\n",
       "1896  Toyota  Camry   White  Los Angeles\n",
       "1898  Toyota  Camry   White  Los Angeles\n",
       "1938  Toyota  Camry  Silver  Los Angeles\n",
       "1969  Toyota  Camry   White  Los Angeles\n",
       "1971  Toyota  Camry   White  Los Angeles\n",
       "\n",
       "[82 rows x 4 columns]"
      ]
     },
     "execution_count": 64,
     "metadata": {},
     "output_type": "execute_result"
    }
   ],
   "source": [
    "cat_csv[(cat_csv['Brand']=='Toyota') & (cat_csv['Model']=='Camry')]"
   ]
  },
  {
   "cell_type": "markdown",
   "id": "31b010b9",
   "metadata": {},
   "source": [
    "# BIVARIATE ANALYSIS IN CATEGORICAL COLUMN"
   ]
  },
  {
   "cell_type": "code",
   "execution_count": null,
   "id": "66eea553",
   "metadata": {},
   "outputs": [],
   "source": [
    "# ANALYSIS ON CAR MODEL AND BRAND"
   ]
  },
  {
   "cell_type": "code",
   "execution_count": 65,
   "id": "0f4222c3",
   "metadata": {},
   "outputs": [
    {
     "data": {
      "text/html": [
       "<div>\n",
       "<style scoped>\n",
       "    .dataframe tbody tr th:only-of-type {\n",
       "        vertical-align: middle;\n",
       "    }\n",
       "\n",
       "    .dataframe tbody tr th {\n",
       "        vertical-align: top;\n",
       "    }\n",
       "\n",
       "    .dataframe thead th {\n",
       "        text-align: right;\n",
       "    }\n",
       "</style>\n",
       "<table border=\"1\" class=\"dataframe\">\n",
       "  <thead>\n",
       "    <tr style=\"text-align: right;\">\n",
       "      <th></th>\n",
       "      <th>Brand</th>\n",
       "      <th>Model</th>\n",
       "      <th>Color</th>\n",
       "      <th>Location</th>\n",
       "    </tr>\n",
       "  </thead>\n",
       "  <tbody>\n",
       "    <tr>\n",
       "      <th>1</th>\n",
       "      <td>Honda</td>\n",
       "      <td>Civic</td>\n",
       "      <td>Blue</td>\n",
       "      <td>New York</td>\n",
       "    </tr>\n",
       "    <tr>\n",
       "      <th>36</th>\n",
       "      <td>Honda</td>\n",
       "      <td>Civic</td>\n",
       "      <td>White</td>\n",
       "      <td>Atlanta</td>\n",
       "    </tr>\n",
       "    <tr>\n",
       "      <th>46</th>\n",
       "      <td>Honda</td>\n",
       "      <td>Civic</td>\n",
       "      <td>Gray</td>\n",
       "      <td>Atlanta</td>\n",
       "    </tr>\n",
       "    <tr>\n",
       "      <th>72</th>\n",
       "      <td>Honda</td>\n",
       "      <td>Civic</td>\n",
       "      <td>Blue</td>\n",
       "      <td>New York</td>\n",
       "    </tr>\n",
       "    <tr>\n",
       "      <th>74</th>\n",
       "      <td>Honda</td>\n",
       "      <td>Civic</td>\n",
       "      <td>Blue</td>\n",
       "      <td>New York</td>\n",
       "    </tr>\n",
       "    <tr>\n",
       "      <th>...</th>\n",
       "      <td>...</td>\n",
       "      <td>...</td>\n",
       "      <td>...</td>\n",
       "      <td>...</td>\n",
       "    </tr>\n",
       "    <tr>\n",
       "      <th>1899</th>\n",
       "      <td>Honda</td>\n",
       "      <td>Civic</td>\n",
       "      <td>Blue</td>\n",
       "      <td>New York</td>\n",
       "    </tr>\n",
       "    <tr>\n",
       "      <th>1934</th>\n",
       "      <td>Honda</td>\n",
       "      <td>Civic</td>\n",
       "      <td>White</td>\n",
       "      <td>Atlanta</td>\n",
       "    </tr>\n",
       "    <tr>\n",
       "      <th>1944</th>\n",
       "      <td>Honda</td>\n",
       "      <td>Civic</td>\n",
       "      <td>Gray</td>\n",
       "      <td>Atlanta</td>\n",
       "    </tr>\n",
       "    <tr>\n",
       "      <th>1970</th>\n",
       "      <td>Honda</td>\n",
       "      <td>Civic</td>\n",
       "      <td>Blue</td>\n",
       "      <td>New York</td>\n",
       "    </tr>\n",
       "    <tr>\n",
       "      <th>1972</th>\n",
       "      <td>Honda</td>\n",
       "      <td>Civic</td>\n",
       "      <td>Blue</td>\n",
       "      <td>New York</td>\n",
       "    </tr>\n",
       "  </tbody>\n",
       "</table>\n",
       "<p>109 rows × 4 columns</p>\n",
       "</div>"
      ],
      "text/plain": [
       "      Brand  Model  Color  Location\n",
       "1     Honda  Civic   Blue  New York\n",
       "36    Honda  Civic  White   Atlanta\n",
       "46    Honda  Civic   Gray   Atlanta\n",
       "72    Honda  Civic   Blue  New York\n",
       "74    Honda  Civic   Blue  New York\n",
       "...     ...    ...    ...       ...\n",
       "1899  Honda  Civic   Blue  New York\n",
       "1934  Honda  Civic  White   Atlanta\n",
       "1944  Honda  Civic   Gray   Atlanta\n",
       "1970  Honda  Civic   Blue  New York\n",
       "1972  Honda  Civic   Blue  New York\n",
       "\n",
       "[109 rows x 4 columns]"
      ]
     },
     "execution_count": 65,
     "metadata": {},
     "output_type": "execute_result"
    }
   ],
   "source": [
    "cat_csv[(cat_csv['Brand']=='Honda') & (cat_csv['Model']=='Civic')]"
   ]
  },
  {
   "cell_type": "code",
   "execution_count": 66,
   "id": "163f1896",
   "metadata": {
    "scrolled": true
   },
   "outputs": [
    {
     "data": {
      "text/html": [
       "<div>\n",
       "<style scoped>\n",
       "    .dataframe tbody tr th:only-of-type {\n",
       "        vertical-align: middle;\n",
       "    }\n",
       "\n",
       "    .dataframe tbody tr th {\n",
       "        vertical-align: top;\n",
       "    }\n",
       "\n",
       "    .dataframe thead th {\n",
       "        text-align: right;\n",
       "    }\n",
       "</style>\n",
       "<table border=\"1\" class=\"dataframe\">\n",
       "  <thead>\n",
       "    <tr style=\"text-align: right;\">\n",
       "      <th></th>\n",
       "      <th>Brand</th>\n",
       "      <th>Model</th>\n",
       "      <th>Color</th>\n",
       "      <th>Location</th>\n",
       "    </tr>\n",
       "  </thead>\n",
       "  <tbody>\n",
       "    <tr>\n",
       "      <th>4</th>\n",
       "      <td>Hyundai</td>\n",
       "      <td>Elantra</td>\n",
       "      <td>Black</td>\n",
       "      <td>San Francisco</td>\n",
       "    </tr>\n",
       "    <tr>\n",
       "      <th>8</th>\n",
       "      <td>Chevrolet</td>\n",
       "      <td>Impala</td>\n",
       "      <td>Black</td>\n",
       "      <td>Houston</td>\n",
       "    </tr>\n",
       "    <tr>\n",
       "      <th>13</th>\n",
       "      <td>Chevrolet</td>\n",
       "      <td>Equinox</td>\n",
       "      <td>Black</td>\n",
       "      <td>Miami</td>\n",
       "    </tr>\n",
       "    <tr>\n",
       "      <th>18</th>\n",
       "      <td>Chevrolet</td>\n",
       "      <td>Traverse</td>\n",
       "      <td>Black</td>\n",
       "      <td>Houston</td>\n",
       "    </tr>\n",
       "    <tr>\n",
       "      <th>23</th>\n",
       "      <td>Chevrolet</td>\n",
       "      <td>Tahoe</td>\n",
       "      <td>Black</td>\n",
       "      <td>Miami</td>\n",
       "    </tr>\n",
       "    <tr>\n",
       "      <th>...</th>\n",
       "      <td>...</td>\n",
       "      <td>...</td>\n",
       "      <td>...</td>\n",
       "      <td>...</td>\n",
       "    </tr>\n",
       "    <tr>\n",
       "      <th>1975</th>\n",
       "      <td>Hyundai</td>\n",
       "      <td>Elantra</td>\n",
       "      <td>Black</td>\n",
       "      <td>San Francisco</td>\n",
       "    </tr>\n",
       "    <tr>\n",
       "      <th>1979</th>\n",
       "      <td>Chevrolet</td>\n",
       "      <td>Impala</td>\n",
       "      <td>Black</td>\n",
       "      <td>Houston</td>\n",
       "    </tr>\n",
       "    <tr>\n",
       "      <th>1984</th>\n",
       "      <td>Chevrolet</td>\n",
       "      <td>Equinox</td>\n",
       "      <td>Black</td>\n",
       "      <td>Miami</td>\n",
       "    </tr>\n",
       "    <tr>\n",
       "      <th>1989</th>\n",
       "      <td>Chevrolet</td>\n",
       "      <td>Traverse</td>\n",
       "      <td>Black</td>\n",
       "      <td>Houston</td>\n",
       "    </tr>\n",
       "    <tr>\n",
       "      <th>1994</th>\n",
       "      <td>Chevrolet</td>\n",
       "      <td>Tahoe</td>\n",
       "      <td>Black</td>\n",
       "      <td>Miami</td>\n",
       "    </tr>\n",
       "  </tbody>\n",
       "</table>\n",
       "<p>329 rows × 4 columns</p>\n",
       "</div>"
      ],
      "text/plain": [
       "          Brand     Model  Color       Location\n",
       "4       Hyundai   Elantra  Black  San Francisco\n",
       "8     Chevrolet    Impala  Black        Houston\n",
       "13    Chevrolet   Equinox  Black          Miami\n",
       "18    Chevrolet  Traverse  Black        Houston\n",
       "23    Chevrolet     Tahoe  Black          Miami\n",
       "...         ...       ...    ...            ...\n",
       "1975    Hyundai   Elantra  Black  San Francisco\n",
       "1979  Chevrolet    Impala  Black        Houston\n",
       "1984  Chevrolet   Equinox  Black          Miami\n",
       "1989  Chevrolet  Traverse  Black        Houston\n",
       "1994  Chevrolet     Tahoe  Black          Miami\n",
       "\n",
       "[329 rows x 4 columns]"
      ]
     },
     "execution_count": 66,
     "metadata": {},
     "output_type": "execute_result"
    }
   ],
   "source": [
    "cat_csv[(cat_csv['Color']=='Black')]"
   ]
  },
  {
   "cell_type": "code",
   "execution_count": null,
   "id": "eb7b1dc9",
   "metadata": {},
   "outputs": [],
   "source": [
    "# ANALYSIS OF BRAND AND COLOR OF CAR"
   ]
  },
  {
   "cell_type": "code",
   "execution_count": 67,
   "id": "3334e9f7",
   "metadata": {},
   "outputs": [
    {
     "data": {
      "text/html": [
       "<div>\n",
       "<style scoped>\n",
       "    .dataframe tbody tr th:only-of-type {\n",
       "        vertical-align: middle;\n",
       "    }\n",
       "\n",
       "    .dataframe tbody tr th {\n",
       "        vertical-align: top;\n",
       "    }\n",
       "\n",
       "    .dataframe thead th {\n",
       "        text-align: right;\n",
       "    }\n",
       "</style>\n",
       "<table border=\"1\" class=\"dataframe\">\n",
       "  <thead>\n",
       "    <tr style=\"text-align: right;\">\n",
       "      <th></th>\n",
       "      <th>Brand</th>\n",
       "      <th>Model</th>\n",
       "      <th>Color</th>\n",
       "      <th>Location</th>\n",
       "    </tr>\n",
       "  </thead>\n",
       "  <tbody>\n",
       "    <tr>\n",
       "      <th>3</th>\n",
       "      <td>Chevrolet</td>\n",
       "      <td>Cruze</td>\n",
       "      <td>Red</td>\n",
       "      <td>Miami</td>\n",
       "    </tr>\n",
       "    <tr>\n",
       "      <th>43</th>\n",
       "      <td>Chevrolet</td>\n",
       "      <td>Camaro</td>\n",
       "      <td>Red</td>\n",
       "      <td>Miami</td>\n",
       "    </tr>\n",
       "    <tr>\n",
       "      <th>76</th>\n",
       "      <td>Chevrolet</td>\n",
       "      <td>Cruze</td>\n",
       "      <td>Red</td>\n",
       "      <td>Miami</td>\n",
       "    </tr>\n",
       "    <tr>\n",
       "      <th>116</th>\n",
       "      <td>Chevrolet</td>\n",
       "      <td>Camaro</td>\n",
       "      <td>Red</td>\n",
       "      <td>Miami</td>\n",
       "    </tr>\n",
       "    <tr>\n",
       "      <th>149</th>\n",
       "      <td>Chevrolet</td>\n",
       "      <td>Cruze</td>\n",
       "      <td>Red</td>\n",
       "      <td>Miami</td>\n",
       "    </tr>\n",
       "    <tr>\n",
       "      <th>189</th>\n",
       "      <td>Chevrolet</td>\n",
       "      <td>Camaro</td>\n",
       "      <td>Red</td>\n",
       "      <td>Miami</td>\n",
       "    </tr>\n",
       "    <tr>\n",
       "      <th>222</th>\n",
       "      <td>Chevrolet</td>\n",
       "      <td>Cruze</td>\n",
       "      <td>Red</td>\n",
       "      <td>Miami</td>\n",
       "    </tr>\n",
       "    <tr>\n",
       "      <th>262</th>\n",
       "      <td>Chevrolet</td>\n",
       "      <td>Camaro</td>\n",
       "      <td>Red</td>\n",
       "      <td>Miami</td>\n",
       "    </tr>\n",
       "    <tr>\n",
       "      <th>295</th>\n",
       "      <td>Chevrolet</td>\n",
       "      <td>Cruze</td>\n",
       "      <td>Red</td>\n",
       "      <td>Miami</td>\n",
       "    </tr>\n",
       "    <tr>\n",
       "      <th>335</th>\n",
       "      <td>Chevrolet</td>\n",
       "      <td>Camaro</td>\n",
       "      <td>Red</td>\n",
       "      <td>Miami</td>\n",
       "    </tr>\n",
       "    <tr>\n",
       "      <th>368</th>\n",
       "      <td>Chevrolet</td>\n",
       "      <td>Cruze</td>\n",
       "      <td>Red</td>\n",
       "      <td>Miami</td>\n",
       "    </tr>\n",
       "    <tr>\n",
       "      <th>408</th>\n",
       "      <td>Chevrolet</td>\n",
       "      <td>Camaro</td>\n",
       "      <td>Red</td>\n",
       "      <td>Miami</td>\n",
       "    </tr>\n",
       "    <tr>\n",
       "      <th>441</th>\n",
       "      <td>Chevrolet</td>\n",
       "      <td>Cruze</td>\n",
       "      <td>Red</td>\n",
       "      <td>Miami</td>\n",
       "    </tr>\n",
       "    <tr>\n",
       "      <th>481</th>\n",
       "      <td>Chevrolet</td>\n",
       "      <td>Camaro</td>\n",
       "      <td>Red</td>\n",
       "      <td>Miami</td>\n",
       "    </tr>\n",
       "    <tr>\n",
       "      <th>514</th>\n",
       "      <td>Chevrolet</td>\n",
       "      <td>Cruze</td>\n",
       "      <td>Red</td>\n",
       "      <td>Miami</td>\n",
       "    </tr>\n",
       "    <tr>\n",
       "      <th>554</th>\n",
       "      <td>Chevrolet</td>\n",
       "      <td>Camaro</td>\n",
       "      <td>Red</td>\n",
       "      <td>Miami</td>\n",
       "    </tr>\n",
       "    <tr>\n",
       "      <th>587</th>\n",
       "      <td>Chevrolet</td>\n",
       "      <td>Cruze</td>\n",
       "      <td>Red</td>\n",
       "      <td>Miami</td>\n",
       "    </tr>\n",
       "    <tr>\n",
       "      <th>627</th>\n",
       "      <td>Chevrolet</td>\n",
       "      <td>Camaro</td>\n",
       "      <td>Red</td>\n",
       "      <td>Miami</td>\n",
       "    </tr>\n",
       "    <tr>\n",
       "      <th>660</th>\n",
       "      <td>Chevrolet</td>\n",
       "      <td>Cruze</td>\n",
       "      <td>Red</td>\n",
       "      <td>Miami</td>\n",
       "    </tr>\n",
       "    <tr>\n",
       "      <th>700</th>\n",
       "      <td>Chevrolet</td>\n",
       "      <td>Camaro</td>\n",
       "      <td>Red</td>\n",
       "      <td>Miami</td>\n",
       "    </tr>\n",
       "    <tr>\n",
       "      <th>733</th>\n",
       "      <td>Chevrolet</td>\n",
       "      <td>Cruze</td>\n",
       "      <td>Red</td>\n",
       "      <td>Miami</td>\n",
       "    </tr>\n",
       "    <tr>\n",
       "      <th>773</th>\n",
       "      <td>Chevrolet</td>\n",
       "      <td>Camaro</td>\n",
       "      <td>Red</td>\n",
       "      <td>Miami</td>\n",
       "    </tr>\n",
       "    <tr>\n",
       "      <th>806</th>\n",
       "      <td>Chevrolet</td>\n",
       "      <td>Cruze</td>\n",
       "      <td>Red</td>\n",
       "      <td>Miami</td>\n",
       "    </tr>\n",
       "    <tr>\n",
       "      <th>846</th>\n",
       "      <td>Chevrolet</td>\n",
       "      <td>Camaro</td>\n",
       "      <td>Red</td>\n",
       "      <td>Miami</td>\n",
       "    </tr>\n",
       "    <tr>\n",
       "      <th>879</th>\n",
       "      <td>Chevrolet</td>\n",
       "      <td>Cruze</td>\n",
       "      <td>Red</td>\n",
       "      <td>Miami</td>\n",
       "    </tr>\n",
       "    <tr>\n",
       "      <th>919</th>\n",
       "      <td>Chevrolet</td>\n",
       "      <td>Camaro</td>\n",
       "      <td>Red</td>\n",
       "      <td>Miami</td>\n",
       "    </tr>\n",
       "    <tr>\n",
       "      <th>952</th>\n",
       "      <td>Chevrolet</td>\n",
       "      <td>Cruze</td>\n",
       "      <td>Red</td>\n",
       "      <td>Miami</td>\n",
       "    </tr>\n",
       "    <tr>\n",
       "      <th>992</th>\n",
       "      <td>Chevrolet</td>\n",
       "      <td>Camaro</td>\n",
       "      <td>Red</td>\n",
       "      <td>Miami</td>\n",
       "    </tr>\n",
       "    <tr>\n",
       "      <th>1025</th>\n",
       "      <td>Chevrolet</td>\n",
       "      <td>Cruze</td>\n",
       "      <td>Red</td>\n",
       "      <td>Miami</td>\n",
       "    </tr>\n",
       "    <tr>\n",
       "      <th>1065</th>\n",
       "      <td>Chevrolet</td>\n",
       "      <td>Camaro</td>\n",
       "      <td>Red</td>\n",
       "      <td>Miami</td>\n",
       "    </tr>\n",
       "    <tr>\n",
       "      <th>1098</th>\n",
       "      <td>Chevrolet</td>\n",
       "      <td>Cruze</td>\n",
       "      <td>Red</td>\n",
       "      <td>Miami</td>\n",
       "    </tr>\n",
       "    <tr>\n",
       "      <th>1138</th>\n",
       "      <td>Chevrolet</td>\n",
       "      <td>Camaro</td>\n",
       "      <td>Red</td>\n",
       "      <td>Miami</td>\n",
       "    </tr>\n",
       "    <tr>\n",
       "      <th>1171</th>\n",
       "      <td>Chevrolet</td>\n",
       "      <td>Cruze</td>\n",
       "      <td>Red</td>\n",
       "      <td>Miami</td>\n",
       "    </tr>\n",
       "    <tr>\n",
       "      <th>1211</th>\n",
       "      <td>Chevrolet</td>\n",
       "      <td>Camaro</td>\n",
       "      <td>Red</td>\n",
       "      <td>Miami</td>\n",
       "    </tr>\n",
       "    <tr>\n",
       "      <th>1244</th>\n",
       "      <td>Chevrolet</td>\n",
       "      <td>Cruze</td>\n",
       "      <td>Red</td>\n",
       "      <td>Miami</td>\n",
       "    </tr>\n",
       "    <tr>\n",
       "      <th>1284</th>\n",
       "      <td>Chevrolet</td>\n",
       "      <td>Camaro</td>\n",
       "      <td>Red</td>\n",
       "      <td>Miami</td>\n",
       "    </tr>\n",
       "    <tr>\n",
       "      <th>1317</th>\n",
       "      <td>Chevrolet</td>\n",
       "      <td>Cruze</td>\n",
       "      <td>Red</td>\n",
       "      <td>Miami</td>\n",
       "    </tr>\n",
       "    <tr>\n",
       "      <th>1357</th>\n",
       "      <td>Chevrolet</td>\n",
       "      <td>Camaro</td>\n",
       "      <td>Red</td>\n",
       "      <td>Miami</td>\n",
       "    </tr>\n",
       "    <tr>\n",
       "      <th>1390</th>\n",
       "      <td>Chevrolet</td>\n",
       "      <td>Cruze</td>\n",
       "      <td>Red</td>\n",
       "      <td>Miami</td>\n",
       "    </tr>\n",
       "    <tr>\n",
       "      <th>1430</th>\n",
       "      <td>Chevrolet</td>\n",
       "      <td>Camaro</td>\n",
       "      <td>Red</td>\n",
       "      <td>Miami</td>\n",
       "    </tr>\n",
       "    <tr>\n",
       "      <th>1463</th>\n",
       "      <td>Chevrolet</td>\n",
       "      <td>Cruze</td>\n",
       "      <td>Red</td>\n",
       "      <td>Miami</td>\n",
       "    </tr>\n",
       "    <tr>\n",
       "      <th>1503</th>\n",
       "      <td>Chevrolet</td>\n",
       "      <td>Camaro</td>\n",
       "      <td>Red</td>\n",
       "      <td>Miami</td>\n",
       "    </tr>\n",
       "    <tr>\n",
       "      <th>1536</th>\n",
       "      <td>Chevrolet</td>\n",
       "      <td>Cruze</td>\n",
       "      <td>Red</td>\n",
       "      <td>Miami</td>\n",
       "    </tr>\n",
       "    <tr>\n",
       "      <th>1576</th>\n",
       "      <td>Chevrolet</td>\n",
       "      <td>Camaro</td>\n",
       "      <td>Red</td>\n",
       "      <td>Miami</td>\n",
       "    </tr>\n",
       "    <tr>\n",
       "      <th>1609</th>\n",
       "      <td>Chevrolet</td>\n",
       "      <td>Cruze</td>\n",
       "      <td>Red</td>\n",
       "      <td>Miami</td>\n",
       "    </tr>\n",
       "    <tr>\n",
       "      <th>1649</th>\n",
       "      <td>Chevrolet</td>\n",
       "      <td>Camaro</td>\n",
       "      <td>Red</td>\n",
       "      <td>Miami</td>\n",
       "    </tr>\n",
       "    <tr>\n",
       "      <th>1682</th>\n",
       "      <td>Chevrolet</td>\n",
       "      <td>Cruze</td>\n",
       "      <td>Red</td>\n",
       "      <td>Miami</td>\n",
       "    </tr>\n",
       "    <tr>\n",
       "      <th>1722</th>\n",
       "      <td>Chevrolet</td>\n",
       "      <td>Camaro</td>\n",
       "      <td>Red</td>\n",
       "      <td>Miami</td>\n",
       "    </tr>\n",
       "    <tr>\n",
       "      <th>1755</th>\n",
       "      <td>Chevrolet</td>\n",
       "      <td>Cruze</td>\n",
       "      <td>Red</td>\n",
       "      <td>Miami</td>\n",
       "    </tr>\n",
       "    <tr>\n",
       "      <th>1795</th>\n",
       "      <td>Chevrolet</td>\n",
       "      <td>Camaro</td>\n",
       "      <td>Red</td>\n",
       "      <td>Miami</td>\n",
       "    </tr>\n",
       "    <tr>\n",
       "      <th>1828</th>\n",
       "      <td>Chevrolet</td>\n",
       "      <td>Cruze</td>\n",
       "      <td>Red</td>\n",
       "      <td>Miami</td>\n",
       "    </tr>\n",
       "    <tr>\n",
       "      <th>1868</th>\n",
       "      <td>Chevrolet</td>\n",
       "      <td>Camaro</td>\n",
       "      <td>Red</td>\n",
       "      <td>Miami</td>\n",
       "    </tr>\n",
       "    <tr>\n",
       "      <th>1901</th>\n",
       "      <td>Chevrolet</td>\n",
       "      <td>Cruze</td>\n",
       "      <td>Red</td>\n",
       "      <td>Miami</td>\n",
       "    </tr>\n",
       "    <tr>\n",
       "      <th>1941</th>\n",
       "      <td>Chevrolet</td>\n",
       "      <td>Camaro</td>\n",
       "      <td>Red</td>\n",
       "      <td>Miami</td>\n",
       "    </tr>\n",
       "    <tr>\n",
       "      <th>1974</th>\n",
       "      <td>Chevrolet</td>\n",
       "      <td>Cruze</td>\n",
       "      <td>Red</td>\n",
       "      <td>Miami</td>\n",
       "    </tr>\n",
       "  </tbody>\n",
       "</table>\n",
       "</div>"
      ],
      "text/plain": [
       "          Brand   Model Color Location\n",
       "3     Chevrolet   Cruze   Red    Miami\n",
       "43    Chevrolet  Camaro   Red    Miami\n",
       "76    Chevrolet   Cruze   Red    Miami\n",
       "116   Chevrolet  Camaro   Red    Miami\n",
       "149   Chevrolet   Cruze   Red    Miami\n",
       "189   Chevrolet  Camaro   Red    Miami\n",
       "222   Chevrolet   Cruze   Red    Miami\n",
       "262   Chevrolet  Camaro   Red    Miami\n",
       "295   Chevrolet   Cruze   Red    Miami\n",
       "335   Chevrolet  Camaro   Red    Miami\n",
       "368   Chevrolet   Cruze   Red    Miami\n",
       "408   Chevrolet  Camaro   Red    Miami\n",
       "441   Chevrolet   Cruze   Red    Miami\n",
       "481   Chevrolet  Camaro   Red    Miami\n",
       "514   Chevrolet   Cruze   Red    Miami\n",
       "554   Chevrolet  Camaro   Red    Miami\n",
       "587   Chevrolet   Cruze   Red    Miami\n",
       "627   Chevrolet  Camaro   Red    Miami\n",
       "660   Chevrolet   Cruze   Red    Miami\n",
       "700   Chevrolet  Camaro   Red    Miami\n",
       "733   Chevrolet   Cruze   Red    Miami\n",
       "773   Chevrolet  Camaro   Red    Miami\n",
       "806   Chevrolet   Cruze   Red    Miami\n",
       "846   Chevrolet  Camaro   Red    Miami\n",
       "879   Chevrolet   Cruze   Red    Miami\n",
       "919   Chevrolet  Camaro   Red    Miami\n",
       "952   Chevrolet   Cruze   Red    Miami\n",
       "992   Chevrolet  Camaro   Red    Miami\n",
       "1025  Chevrolet   Cruze   Red    Miami\n",
       "1065  Chevrolet  Camaro   Red    Miami\n",
       "1098  Chevrolet   Cruze   Red    Miami\n",
       "1138  Chevrolet  Camaro   Red    Miami\n",
       "1171  Chevrolet   Cruze   Red    Miami\n",
       "1211  Chevrolet  Camaro   Red    Miami\n",
       "1244  Chevrolet   Cruze   Red    Miami\n",
       "1284  Chevrolet  Camaro   Red    Miami\n",
       "1317  Chevrolet   Cruze   Red    Miami\n",
       "1357  Chevrolet  Camaro   Red    Miami\n",
       "1390  Chevrolet   Cruze   Red    Miami\n",
       "1430  Chevrolet  Camaro   Red    Miami\n",
       "1463  Chevrolet   Cruze   Red    Miami\n",
       "1503  Chevrolet  Camaro   Red    Miami\n",
       "1536  Chevrolet   Cruze   Red    Miami\n",
       "1576  Chevrolet  Camaro   Red    Miami\n",
       "1609  Chevrolet   Cruze   Red    Miami\n",
       "1649  Chevrolet  Camaro   Red    Miami\n",
       "1682  Chevrolet   Cruze   Red    Miami\n",
       "1722  Chevrolet  Camaro   Red    Miami\n",
       "1755  Chevrolet   Cruze   Red    Miami\n",
       "1795  Chevrolet  Camaro   Red    Miami\n",
       "1828  Chevrolet   Cruze   Red    Miami\n",
       "1868  Chevrolet  Camaro   Red    Miami\n",
       "1901  Chevrolet   Cruze   Red    Miami\n",
       "1941  Chevrolet  Camaro   Red    Miami\n",
       "1974  Chevrolet   Cruze   Red    Miami"
      ]
     },
     "execution_count": 67,
     "metadata": {},
     "output_type": "execute_result"
    }
   ],
   "source": [
    "cat_csv[(cat_csv['Brand']=='Chevrolet') & (cat_csv['Color']=='Red')]"
   ]
  },
  {
   "cell_type": "code",
   "execution_count": 70,
   "id": "580ddd14",
   "metadata": {},
   "outputs": [
    {
     "data": {
      "text/plain": [
       "<matplotlib.collections.PathCollection at 0x1d18997d1e0>"
      ]
     },
     "execution_count": 70,
     "metadata": {},
     "output_type": "execute_result"
    },
    {
     "data": {
      "image/png": "[encoded data removed]",
      "text/plain": [
       "<Figure size 640x480 with 1 Axes>"
      ]
     },
     "metadata": {},
     "output_type": "display_data"
    }
   ],
   "source": [
    "plt.scatter(cat_csv['Brand'],cat_csv['Color'])"
   ]
  },
  {
   "cell_type": "code",
   "execution_count": 71,
   "id": "48230ab8",
   "metadata": {},
   "outputs": [
    {
     "data": {
      "text/plain": [
       "<BarContainer object of 2000 artists>"
      ]
     },
     "execution_count": 71,
     "metadata": {},
     "output_type": "execute_result"
    },
    {
     "data": {
      "image/png": "[encoded data removed]",
      "text/plain": [
       "<Figure size 640x480 with 1 Axes>"
      ]
     },
     "metadata": {},
     "output_type": "display_data"
    }
   ],
   "source": [
    "plt.bar(cat_csv['Brand'],cat_csv['Color'])"
   ]
  },
  {
   "cell_type": "code",
   "execution_count": null,
   "id": "57b3cb3b",
   "metadata": {},
   "outputs": [],
   "source": []
  },
  {
   "cell_type": "code",
   "execution_count": null,
   "id": "7b867a85",
   "metadata": {},
   "outputs": [],
   "source": []
  },
  {
   "cell_type": "code",
   "execution_count": null,
   "id": "9877d823",
   "metadata": {},
   "outputs": [],
   "source": []
  },
  {
   "cell_type": "code",
   "execution_count": null,
   "id": "cf5167c6",
   "metadata": {},
   "outputs": [],
   "source": []
  },
  {
   "cell_type": "code",
   "execution_count": null,
   "id": "788219b1",
   "metadata": {},
   "outputs": [],
   "source": []
  }
 ],
 "metadata": {
  "kernelspec": {
   "display_name": "Python 3 (ipykernel)",
   "language": "python",
   "name": "python3"
  },
  "language_info": {
   "codemirror_mode": {
    "name": "ipython",
    "version": 3
   },
   "file_extension": ".py",
   "mimetype": "text/x-python",
   "name": "python",
   "nbconvert_exporter": "python",
   "pygments_lexer": "ipython3",
   "version": "3.10.9"
  }
 },
 "nbformat": 4,
 "nbformat_minor": 5
}
