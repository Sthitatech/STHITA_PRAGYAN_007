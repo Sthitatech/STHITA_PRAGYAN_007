{
 "cells": [
  {
   "cell_type": "markdown",
   "id": "d32ac484",
   "metadata": {},
   "source": [
    "ROCK,PAPER,SCISSOR GAME"
   ]
  },
  {
   "cell_type": "code",
   "execution_count": 5,
   "id": "0afc68b3",
   "metadata": {},
   "outputs": [
    {
     "name": "stdout",
     "output_type": "stream",
     "text": [
      "enter your choice:rock,paper,scissorscissor\n",
      "enter your choice:rock,paper,scissorpaper\n",
      "User wins\n"
     ]
    }
   ],
   "source": [
    "Player=input('enter your choice:rock,paper,scissor')\n",
    "Computer=input('enter your choice:rock,paper,scissor')\n",
    "if Player=='rock' and Computer=='paper':\n",
    "    print('system wins')\n",
    "elif Player=='scissor' and Computer=='rock':\n",
    "    print('system wins')\n",
    "elif Player=='paper' and Computer=='scissor':\n",
    "    print('system wins')\n",
    "else:\n",
    "    print('User wins')"
   ]
  },
  {
   "cell_type": "code",
   "execution_count": null,
   "id": "adcf11d8",
   "metadata": {},
   "outputs": [],
   "source": []
  },
  {
   "cell_type": "code",
   "execution_count": null,
   "id": "c6a682ee",
   "metadata": {},
   "outputs": [],
   "source": []
  },
  {
   "cell_type": "code",
   "execution_count": null,
   "id": "ab40f4a0",
   "metadata": {},
   "outputs": [],
   "source": []
  },
  {
   "cell_type": "code",
   "execution_count": null,
   "id": "6b0fce32",
   "metadata": {},
   "outputs": [],
   "source": []
  },
  {
   "cell_type": "code",
   "execution_count": null,
   "id": "99006042",
   "metadata": {},
   "outputs": [],
   "source": []
  },
  {
   "cell_type": "code",
   "execution_count": null,
   "id": "4d764bdc",
   "metadata": {},
   "outputs": [],
   "source": []
  },
  {
   "cell_type": "code",
   "execution_count": null,
   "id": "80f1535c",
   "metadata": {},
   "outputs": [],
   "source": []
  },
  {
   "cell_type": "code",
   "execution_count": null,
   "id": "69fd77a4",
   "metadata": {},
   "outputs": [],
   "source": []
  },
  {
   "cell_type": "code",
   "execution_count": null,
   "id": "7856b39f",
   "metadata": {},
   "outputs": [],
   "source": []
  },
  {
   "cell_type": "markdown",
   "id": "4e25e792",
   "metadata": {},
   "source": []
  }
 ],
 "metadata": {
  "kernelspec": {
   "display_name": "Python 3 (ipykernel)",
   "language": "python",
   "name": "python3"
  },
  "language_info": {
   "codemirror_mode": {
    "name": "ipython",
    "version": 3
   },
   "file_extension": ".py",
   "mimetype": "text/x-python",
   "name": "python",
   "nbconvert_exporter": "python",
   "pygments_lexer": "ipython3",
   "version": "3.10.9"
  }
 },
 "nbformat": 4,
 "nbformat_minor": 5
}
